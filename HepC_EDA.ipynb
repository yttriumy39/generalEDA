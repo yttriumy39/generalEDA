{
 "cells": [
  {
   "cell_type": "markdown",
   "metadata": {},
   "source": [
    "Short exploratory data analysis of a Hepatitis C data set. The original dataset can be found here https://www.kaggle.com/fedesoriano/hepatitis-c-dataset\n",
    "\n",
    "The analysis shows a correlation map between protein levels for several different proteins and whether or not the patient has disease."
   ]
  },
  {
   "cell_type": "code",
   "execution_count": 43,
   "metadata": {},
   "outputs": [],
   "source": [
    "import pandas as pd\n",
    "import numpy as np\n",
    "import matplotlib.pyplot as plt\n",
    "import seaborn as sns\n",
    "from sklearn.preprocessing import MinMaxScaler\n",
    "scaler = MinMaxScaler() "
   ]
  },
  {
   "cell_type": "code",
   "execution_count": 10,
   "metadata": {},
   "outputs": [],
   "source": [
    "df = pd.read_csv(\"HepatitisCData.csv\")"
   ]
  },
  {
   "cell_type": "code",
   "execution_count": 11,
   "metadata": {},
   "outputs": [
    {
     "data": {
      "text/html": [
       "<div>\n",
       "<style scoped>\n",
       "    .dataframe tbody tr th:only-of-type {\n",
       "        vertical-align: middle;\n",
       "    }\n",
       "\n",
       "    .dataframe tbody tr th {\n",
       "        vertical-align: top;\n",
       "    }\n",
       "\n",
       "    .dataframe thead th {\n",
       "        text-align: right;\n",
       "    }\n",
       "</style>\n",
       "<table border=\"1\" class=\"dataframe\">\n",
       "  <thead>\n",
       "    <tr style=\"text-align: right;\">\n",
       "      <th></th>\n",
       "      <th>Unnamed: 0</th>\n",
       "      <th>Category</th>\n",
       "      <th>Age</th>\n",
       "      <th>Sex</th>\n",
       "      <th>ALB</th>\n",
       "      <th>ALP</th>\n",
       "      <th>ALT</th>\n",
       "      <th>AST</th>\n",
       "      <th>BIL</th>\n",
       "      <th>CHE</th>\n",
       "      <th>CHOL</th>\n",
       "      <th>CREA</th>\n",
       "      <th>GGT</th>\n",
       "      <th>PROT</th>\n",
       "    </tr>\n",
       "  </thead>\n",
       "  <tbody>\n",
       "    <tr>\n",
       "      <th>0</th>\n",
       "      <td>1</td>\n",
       "      <td>0=Blood Donor</td>\n",
       "      <td>32</td>\n",
       "      <td>m</td>\n",
       "      <td>38.5</td>\n",
       "      <td>52.5</td>\n",
       "      <td>7.7</td>\n",
       "      <td>22.1</td>\n",
       "      <td>7.5</td>\n",
       "      <td>6.93</td>\n",
       "      <td>3.23</td>\n",
       "      <td>106.0</td>\n",
       "      <td>12.1</td>\n",
       "      <td>69.0</td>\n",
       "    </tr>\n",
       "    <tr>\n",
       "      <th>1</th>\n",
       "      <td>2</td>\n",
       "      <td>0=Blood Donor</td>\n",
       "      <td>32</td>\n",
       "      <td>m</td>\n",
       "      <td>38.5</td>\n",
       "      <td>70.3</td>\n",
       "      <td>18.0</td>\n",
       "      <td>24.7</td>\n",
       "      <td>3.9</td>\n",
       "      <td>11.17</td>\n",
       "      <td>4.80</td>\n",
       "      <td>74.0</td>\n",
       "      <td>15.6</td>\n",
       "      <td>76.5</td>\n",
       "    </tr>\n",
       "    <tr>\n",
       "      <th>2</th>\n",
       "      <td>3</td>\n",
       "      <td>0=Blood Donor</td>\n",
       "      <td>32</td>\n",
       "      <td>m</td>\n",
       "      <td>46.9</td>\n",
       "      <td>74.7</td>\n",
       "      <td>36.2</td>\n",
       "      <td>52.6</td>\n",
       "      <td>6.1</td>\n",
       "      <td>8.84</td>\n",
       "      <td>5.20</td>\n",
       "      <td>86.0</td>\n",
       "      <td>33.2</td>\n",
       "      <td>79.3</td>\n",
       "    </tr>\n",
       "    <tr>\n",
       "      <th>3</th>\n",
       "      <td>4</td>\n",
       "      <td>0=Blood Donor</td>\n",
       "      <td>32</td>\n",
       "      <td>m</td>\n",
       "      <td>43.2</td>\n",
       "      <td>52.0</td>\n",
       "      <td>30.6</td>\n",
       "      <td>22.6</td>\n",
       "      <td>18.9</td>\n",
       "      <td>7.33</td>\n",
       "      <td>4.74</td>\n",
       "      <td>80.0</td>\n",
       "      <td>33.8</td>\n",
       "      <td>75.7</td>\n",
       "    </tr>\n",
       "    <tr>\n",
       "      <th>4</th>\n",
       "      <td>5</td>\n",
       "      <td>0=Blood Donor</td>\n",
       "      <td>32</td>\n",
       "      <td>m</td>\n",
       "      <td>39.2</td>\n",
       "      <td>74.1</td>\n",
       "      <td>32.6</td>\n",
       "      <td>24.8</td>\n",
       "      <td>9.6</td>\n",
       "      <td>9.15</td>\n",
       "      <td>4.32</td>\n",
       "      <td>76.0</td>\n",
       "      <td>29.9</td>\n",
       "      <td>68.7</td>\n",
       "    </tr>\n",
       "  </tbody>\n",
       "</table>\n",
       "</div>"
      ],
      "text/plain": [
       "   Unnamed: 0       Category  Age Sex   ALB   ALP   ALT   AST   BIL    CHE  \\\n",
       "0           1  0=Blood Donor   32   m  38.5  52.5   7.7  22.1   7.5   6.93   \n",
       "1           2  0=Blood Donor   32   m  38.5  70.3  18.0  24.7   3.9  11.17   \n",
       "2           3  0=Blood Donor   32   m  46.9  74.7  36.2  52.6   6.1   8.84   \n",
       "3           4  0=Blood Donor   32   m  43.2  52.0  30.6  22.6  18.9   7.33   \n",
       "4           5  0=Blood Donor   32   m  39.2  74.1  32.6  24.8   9.6   9.15   \n",
       "\n",
       "   CHOL   CREA   GGT  PROT  \n",
       "0  3.23  106.0  12.1  69.0  \n",
       "1  4.80   74.0  15.6  76.5  \n",
       "2  5.20   86.0  33.2  79.3  \n",
       "3  4.74   80.0  33.8  75.7  \n",
       "4  4.32   76.0  29.9  68.7  "
      ]
     },
     "execution_count": 11,
     "metadata": {},
     "output_type": "execute_result"
    }
   ],
   "source": [
    "df.head()"
   ]
  },
  {
   "cell_type": "code",
   "execution_count": 18,
   "metadata": {},
   "outputs": [
    {
     "data": {
      "text/plain": [
       "(615, 14)"
      ]
     },
     "execution_count": 18,
     "metadata": {},
     "output_type": "execute_result"
    }
   ],
   "source": [
    "df.shape"
   ]
  },
  {
   "cell_type": "code",
   "execution_count": 19,
   "metadata": {},
   "outputs": [
    {
     "data": {
      "text/html": [
       "<div>\n",
       "<style scoped>\n",
       "    .dataframe tbody tr th:only-of-type {\n",
       "        vertical-align: middle;\n",
       "    }\n",
       "\n",
       "    .dataframe tbody tr th {\n",
       "        vertical-align: top;\n",
       "    }\n",
       "\n",
       "    .dataframe thead th {\n",
       "        text-align: right;\n",
       "    }\n",
       "</style>\n",
       "<table border=\"1\" class=\"dataframe\">\n",
       "  <thead>\n",
       "    <tr style=\"text-align: right;\">\n",
       "      <th></th>\n",
       "      <th>Unnamed: 0</th>\n",
       "      <th>Age</th>\n",
       "      <th>ALB</th>\n",
       "      <th>ALP</th>\n",
       "      <th>ALT</th>\n",
       "      <th>AST</th>\n",
       "      <th>BIL</th>\n",
       "      <th>CHE</th>\n",
       "      <th>CHOL</th>\n",
       "      <th>CREA</th>\n",
       "      <th>GGT</th>\n",
       "      <th>PROT</th>\n",
       "    </tr>\n",
       "  </thead>\n",
       "  <tbody>\n",
       "    <tr>\n",
       "      <th>count</th>\n",
       "      <td>615.000000</td>\n",
       "      <td>615.000000</td>\n",
       "      <td>614.000000</td>\n",
       "      <td>597.000000</td>\n",
       "      <td>614.000000</td>\n",
       "      <td>615.000000</td>\n",
       "      <td>615.000000</td>\n",
       "      <td>615.000000</td>\n",
       "      <td>605.000000</td>\n",
       "      <td>615.000000</td>\n",
       "      <td>615.000000</td>\n",
       "      <td>614.000000</td>\n",
       "    </tr>\n",
       "    <tr>\n",
       "      <th>mean</th>\n",
       "      <td>308.000000</td>\n",
       "      <td>47.408130</td>\n",
       "      <td>41.620195</td>\n",
       "      <td>68.283920</td>\n",
       "      <td>28.450814</td>\n",
       "      <td>34.786341</td>\n",
       "      <td>11.396748</td>\n",
       "      <td>8.196634</td>\n",
       "      <td>5.368099</td>\n",
       "      <td>81.287805</td>\n",
       "      <td>39.533171</td>\n",
       "      <td>72.044137</td>\n",
       "    </tr>\n",
       "    <tr>\n",
       "      <th>std</th>\n",
       "      <td>177.679487</td>\n",
       "      <td>10.055105</td>\n",
       "      <td>5.780629</td>\n",
       "      <td>26.028315</td>\n",
       "      <td>25.469689</td>\n",
       "      <td>33.090690</td>\n",
       "      <td>19.673150</td>\n",
       "      <td>2.205657</td>\n",
       "      <td>1.132728</td>\n",
       "      <td>49.756166</td>\n",
       "      <td>54.661071</td>\n",
       "      <td>5.402636</td>\n",
       "    </tr>\n",
       "    <tr>\n",
       "      <th>min</th>\n",
       "      <td>1.000000</td>\n",
       "      <td>19.000000</td>\n",
       "      <td>14.900000</td>\n",
       "      <td>11.300000</td>\n",
       "      <td>0.900000</td>\n",
       "      <td>10.600000</td>\n",
       "      <td>0.800000</td>\n",
       "      <td>1.420000</td>\n",
       "      <td>1.430000</td>\n",
       "      <td>8.000000</td>\n",
       "      <td>4.500000</td>\n",
       "      <td>44.800000</td>\n",
       "    </tr>\n",
       "    <tr>\n",
       "      <th>25%</th>\n",
       "      <td>154.500000</td>\n",
       "      <td>39.000000</td>\n",
       "      <td>38.800000</td>\n",
       "      <td>52.500000</td>\n",
       "      <td>16.400000</td>\n",
       "      <td>21.600000</td>\n",
       "      <td>5.300000</td>\n",
       "      <td>6.935000</td>\n",
       "      <td>4.610000</td>\n",
       "      <td>67.000000</td>\n",
       "      <td>15.700000</td>\n",
       "      <td>69.300000</td>\n",
       "    </tr>\n",
       "    <tr>\n",
       "      <th>50%</th>\n",
       "      <td>308.000000</td>\n",
       "      <td>47.000000</td>\n",
       "      <td>41.950000</td>\n",
       "      <td>66.200000</td>\n",
       "      <td>23.000000</td>\n",
       "      <td>25.900000</td>\n",
       "      <td>7.300000</td>\n",
       "      <td>8.260000</td>\n",
       "      <td>5.300000</td>\n",
       "      <td>77.000000</td>\n",
       "      <td>23.300000</td>\n",
       "      <td>72.200000</td>\n",
       "    </tr>\n",
       "    <tr>\n",
       "      <th>75%</th>\n",
       "      <td>461.500000</td>\n",
       "      <td>54.000000</td>\n",
       "      <td>45.200000</td>\n",
       "      <td>80.100000</td>\n",
       "      <td>33.075000</td>\n",
       "      <td>32.900000</td>\n",
       "      <td>11.200000</td>\n",
       "      <td>9.590000</td>\n",
       "      <td>6.060000</td>\n",
       "      <td>88.000000</td>\n",
       "      <td>40.200000</td>\n",
       "      <td>75.400000</td>\n",
       "    </tr>\n",
       "    <tr>\n",
       "      <th>max</th>\n",
       "      <td>615.000000</td>\n",
       "      <td>77.000000</td>\n",
       "      <td>82.200000</td>\n",
       "      <td>416.600000</td>\n",
       "      <td>325.300000</td>\n",
       "      <td>324.000000</td>\n",
       "      <td>254.000000</td>\n",
       "      <td>16.410000</td>\n",
       "      <td>9.670000</td>\n",
       "      <td>1079.100000</td>\n",
       "      <td>650.900000</td>\n",
       "      <td>90.000000</td>\n",
       "    </tr>\n",
       "  </tbody>\n",
       "</table>\n",
       "</div>"
      ],
      "text/plain": [
       "       Unnamed: 0         Age         ALB         ALP         ALT         AST  \\\n",
       "count  615.000000  615.000000  614.000000  597.000000  614.000000  615.000000   \n",
       "mean   308.000000   47.408130   41.620195   68.283920   28.450814   34.786341   \n",
       "std    177.679487   10.055105    5.780629   26.028315   25.469689   33.090690   \n",
       "min      1.000000   19.000000   14.900000   11.300000    0.900000   10.600000   \n",
       "25%    154.500000   39.000000   38.800000   52.500000   16.400000   21.600000   \n",
       "50%    308.000000   47.000000   41.950000   66.200000   23.000000   25.900000   \n",
       "75%    461.500000   54.000000   45.200000   80.100000   33.075000   32.900000   \n",
       "max    615.000000   77.000000   82.200000  416.600000  325.300000  324.000000   \n",
       "\n",
       "              BIL         CHE        CHOL         CREA         GGT        PROT  \n",
       "count  615.000000  615.000000  605.000000   615.000000  615.000000  614.000000  \n",
       "mean    11.396748    8.196634    5.368099    81.287805   39.533171   72.044137  \n",
       "std     19.673150    2.205657    1.132728    49.756166   54.661071    5.402636  \n",
       "min      0.800000    1.420000    1.430000     8.000000    4.500000   44.800000  \n",
       "25%      5.300000    6.935000    4.610000    67.000000   15.700000   69.300000  \n",
       "50%      7.300000    8.260000    5.300000    77.000000   23.300000   72.200000  \n",
       "75%     11.200000    9.590000    6.060000    88.000000   40.200000   75.400000  \n",
       "max    254.000000   16.410000    9.670000  1079.100000  650.900000   90.000000  "
      ]
     },
     "execution_count": 19,
     "metadata": {},
     "output_type": "execute_result"
    }
   ],
   "source": [
    "df.describe()"
   ]
  },
  {
   "cell_type": "code",
   "execution_count": 27,
   "metadata": {},
   "outputs": [
    {
     "data": {
      "text/plain": [
       "array(['0=Blood Donor', '0s=suspect Blood Donor', '1=Hepatitis',\n",
       "       '2=Fibrosis', '3=Cirrhosis'], dtype=object)"
      ]
     },
     "execution_count": 27,
     "metadata": {},
     "output_type": "execute_result"
    }
   ],
   "source": [
    "df['Category'].unique()"
   ]
  },
  {
   "cell_type": "code",
   "execution_count": 28,
   "metadata": {},
   "outputs": [
    {
     "data": {
      "text/plain": [
       "Unnamed: 0     0\n",
       "Category       0\n",
       "Age            0\n",
       "Sex            0\n",
       "ALB            1\n",
       "ALP           18\n",
       "ALT            1\n",
       "AST            0\n",
       "BIL            0\n",
       "CHE            0\n",
       "CHOL          10\n",
       "CREA           0\n",
       "GGT            0\n",
       "PROT           1\n",
       "dtype: int64"
      ]
     },
     "execution_count": 28,
     "metadata": {},
     "output_type": "execute_result"
    }
   ],
   "source": [
    "df.isnull().sum()"
   ]
  },
  {
   "cell_type": "code",
   "execution_count": 34,
   "metadata": {},
   "outputs": [],
   "source": [
    "df = df[df['Category'] != '0s=suspect Blood Donor']\n",
    "df = df.dropna()"
   ]
  },
  {
   "cell_type": "code",
   "execution_count": 35,
   "metadata": {},
   "outputs": [],
   "source": [
    "df['has_dis'] = df['Category'].apply(lambda x: 0 if '0=Blood Donor' in x else 1)"
   ]
  },
  {
   "cell_type": "code",
   "execution_count": 49,
   "metadata": {},
   "outputs": [],
   "source": [
    "bio_data = ['ALB','ALP','ALT','AST','BIL', 'CHE','CHOL','CREA', 'GGT','PROT']\n",
    "num_data = ['Age','ALB','ALP','ALT','AST','BIL', 'CHE','CHOL','CREA', 'GGT','PROT','has_dis']"
   ]
  },
  {
   "cell_type": "code",
   "execution_count": 93,
   "metadata": {},
   "outputs": [
    {
     "data": {
      "image/png": "[encoded data removed]",
      "text/plain": [
       "<Figure size 432x288 with 1 Axes>"
      ]
     },
     "metadata": {
      "needs_background": "light"
     },
     "output_type": "display_data"
    },
    {
     "data": {
      "image/png": "[encoded data removed]",
      "text/plain": [
       "<Figure size 432x288 with 1 Axes>"
      ]
     },
     "metadata": {
      "needs_background": "light"
     },
     "output_type": "display_data"
    },
    {
     "data": {
      "image/png": "[encoded data removed]",
      "text/plain": [
       "<Figure size 432x288 with 1 Axes>"
      ]
     },
     "metadata": {
      "needs_background": "light"
     },
     "output_type": "display_data"
    },
    {
     "data": {
      "image/png": "[encoded data removed]",
      "text/plain": [
       "<Figure size 432x288 with 1 Axes>"
      ]
     },
     "metadata": {
      "needs_background": "light"
     },
     "output_type": "display_data"
    },
    {
     "data": {
      "image/png": "[encoded data removed]",
      "text/plain": [
       "<Figure size 432x288 with 1 Axes>"
      ]
     },
     "metadata": {
      "needs_background": "light"
     },
     "output_type": "display_data"
    },
    {
     "data": {
      "image/png": "[encoded data removed]",
      "text/plain": [
       "<Figure size 432x288 with 1 Axes>"
      ]
     },
     "metadata": {
      "needs_background": "light"
     },
     "output_type": "display_data"
    },
    {
     "data": {
      "image/png": "[encoded data removed]",
      "text/plain": [
       "<Figure size 432x288 with 1 Axes>"
      ]
     },
     "metadata": {
      "needs_background": "light"
     },
     "output_type": "display_data"
    },
    {
     "data": {
      "image/png": "[encoded data removed]",
      "text/plain": [
       "<Figure size 432x288 with 1 Axes>"
      ]
     },
     "metadata": {
      "needs_background": "light"
     },
     "output_type": "display_data"
    },
    {
     "data": {
      "image/png": "[encoded data removed]",
      "text/plain": [
       "<Figure size 432x288 with 1 Axes>"
      ]
     },
     "metadata": {
      "needs_background": "light"
     },
     "output_type": "display_data"
    },
    {
     "data": {
      "image/png": "[encoded data removed]",
      "text/plain": [
       "<Figure size 432x288 with 1 Axes>"
      ]
     },
     "metadata": {
      "needs_background": "light"
     },
     "output_type": "display_data"
    }
   ],
   "source": [
    "for i, col in enumerate(bio_data):\n",
    "    plt.figure(i)\n",
    "    sns.distplot(df[col], bins =100)"
   ]
  },
  {
   "cell_type": "code",
   "execution_count": 51,
   "metadata": {},
   "outputs": [
    {
     "data": {
      "text/html": [
       "<div>\n",
       "<style scoped>\n",
       "    .dataframe tbody tr th:only-of-type {\n",
       "        vertical-align: middle;\n",
       "    }\n",
       "\n",
       "    .dataframe tbody tr th {\n",
       "        vertical-align: top;\n",
       "    }\n",
       "\n",
       "    .dataframe thead th {\n",
       "        text-align: right;\n",
       "    }\n",
       "</style>\n",
       "<table border=\"1\" class=\"dataframe\">\n",
       "  <thead>\n",
       "    <tr style=\"text-align: right;\">\n",
       "      <th></th>\n",
       "      <th>Age</th>\n",
       "      <th>ALB</th>\n",
       "      <th>ALP</th>\n",
       "      <th>ALT</th>\n",
       "      <th>AST</th>\n",
       "      <th>BIL</th>\n",
       "      <th>CHE</th>\n",
       "      <th>CHOL</th>\n",
       "      <th>CREA</th>\n",
       "      <th>GGT</th>\n",
       "      <th>PROT</th>\n",
       "      <th>has_dis</th>\n",
       "    </tr>\n",
       "  </thead>\n",
       "  <tbody>\n",
       "    <tr>\n",
       "      <th>Age</th>\n",
       "      <td>1.000000</td>\n",
       "      <td>-0.161481</td>\n",
       "      <td>0.170215</td>\n",
       "      <td>-0.111697</td>\n",
       "      <td>0.055230</td>\n",
       "      <td>0.043339</td>\n",
       "      <td>-0.081921</td>\n",
       "      <td>0.146815</td>\n",
       "      <td>-0.014499</td>\n",
       "      <td>0.129556</td>\n",
       "      <td>-0.126691</td>\n",
       "      <td>0.037512</td>\n",
       "    </tr>\n",
       "    <tr>\n",
       "      <th>ALB</th>\n",
       "      <td>-0.161481</td>\n",
       "      <td>1.000000</td>\n",
       "      <td>-0.103431</td>\n",
       "      <td>0.200235</td>\n",
       "      <td>-0.161389</td>\n",
       "      <td>-0.194822</td>\n",
       "      <td>0.364617</td>\n",
       "      <td>0.167053</td>\n",
       "      <td>-0.018850</td>\n",
       "      <td>-0.073379</td>\n",
       "      <td>0.493732</td>\n",
       "      <td>-0.203710</td>\n",
       "    </tr>\n",
       "    <tr>\n",
       "      <th>ALP</th>\n",
       "      <td>0.170215</td>\n",
       "      <td>-0.103431</td>\n",
       "      <td>1.000000</td>\n",
       "      <td>0.078155</td>\n",
       "      <td>0.027222</td>\n",
       "      <td>0.066974</td>\n",
       "      <td>0.043800</td>\n",
       "      <td>0.135502</td>\n",
       "      <td>0.167393</td>\n",
       "      <td>0.428599</td>\n",
       "      <td>-0.014861</td>\n",
       "      <td>-0.062378</td>\n",
       "    </tr>\n",
       "    <tr>\n",
       "      <th>ALT</th>\n",
       "      <td>-0.111697</td>\n",
       "      <td>0.200235</td>\n",
       "      <td>0.078155</td>\n",
       "      <td>1.000000</td>\n",
       "      <td>0.100191</td>\n",
       "      <td>-0.126918</td>\n",
       "      <td>0.311920</td>\n",
       "      <td>0.184870</td>\n",
       "      <td>-0.024710</td>\n",
       "      <td>0.102898</td>\n",
       "      <td>0.146857</td>\n",
       "      <td>-0.233696</td>\n",
       "    </tr>\n",
       "    <tr>\n",
       "      <th>AST</th>\n",
       "      <td>0.055230</td>\n",
       "      <td>-0.161389</td>\n",
       "      <td>0.027222</td>\n",
       "      <td>0.100191</td>\n",
       "      <td>1.000000</td>\n",
       "      <td>0.321066</td>\n",
       "      <td>-0.224441</td>\n",
       "      <td>-0.211018</td>\n",
       "      <td>-0.009114</td>\n",
       "      <td>0.481591</td>\n",
       "      <td>0.048419</td>\n",
       "      <td>0.645313</td>\n",
       "    </tr>\n",
       "    <tr>\n",
       "      <th>BIL</th>\n",
       "      <td>0.043339</td>\n",
       "      <td>-0.194822</td>\n",
       "      <td>0.066974</td>\n",
       "      <td>-0.126918</td>\n",
       "      <td>0.321066</td>\n",
       "      <td>1.000000</td>\n",
       "      <td>-0.330494</td>\n",
       "      <td>-0.187060</td>\n",
       "      <td>0.019625</td>\n",
       "      <td>0.234191</td>\n",
       "      <td>-0.071996</td>\n",
       "      <td>0.442584</td>\n",
       "    </tr>\n",
       "    <tr>\n",
       "      <th>CHE</th>\n",
       "      <td>-0.081921</td>\n",
       "      <td>0.364617</td>\n",
       "      <td>0.043800</td>\n",
       "      <td>0.311920</td>\n",
       "      <td>-0.224441</td>\n",
       "      <td>-0.330494</td>\n",
       "      <td>1.000000</td>\n",
       "      <td>0.428312</td>\n",
       "      <td>-0.013163</td>\n",
       "      <td>-0.074410</td>\n",
       "      <td>0.297580</td>\n",
       "      <td>-0.248236</td>\n",
       "    </tr>\n",
       "    <tr>\n",
       "      <th>CHOL</th>\n",
       "      <td>0.146815</td>\n",
       "      <td>0.167053</td>\n",
       "      <td>0.135502</td>\n",
       "      <td>0.184870</td>\n",
       "      <td>-0.211018</td>\n",
       "      <td>-0.187060</td>\n",
       "      <td>0.428312</td>\n",
       "      <td>1.000000</td>\n",
       "      <td>-0.060087</td>\n",
       "      <td>0.031976</td>\n",
       "      <td>0.201525</td>\n",
       "      <td>-0.252205</td>\n",
       "    </tr>\n",
       "    <tr>\n",
       "      <th>CREA</th>\n",
       "      <td>-0.014499</td>\n",
       "      <td>-0.018850</td>\n",
       "      <td>0.167393</td>\n",
       "      <td>-0.024710</td>\n",
       "      <td>-0.009114</td>\n",
       "      <td>0.019625</td>\n",
       "      <td>-0.013163</td>\n",
       "      <td>-0.060087</td>\n",
       "      <td>1.000000</td>\n",
       "      <td>0.128460</td>\n",
       "      <td>-0.061710</td>\n",
       "      <td>0.166441</td>\n",
       "    </tr>\n",
       "    <tr>\n",
       "      <th>GGT</th>\n",
       "      <td>0.129556</td>\n",
       "      <td>-0.073379</td>\n",
       "      <td>0.428599</td>\n",
       "      <td>0.102898</td>\n",
       "      <td>0.481591</td>\n",
       "      <td>0.234191</td>\n",
       "      <td>-0.074410</td>\n",
       "      <td>0.031976</td>\n",
       "      <td>0.128460</td>\n",
       "      <td>1.000000</td>\n",
       "      <td>0.049717</td>\n",
       "      <td>0.461679</td>\n",
       "    </tr>\n",
       "    <tr>\n",
       "      <th>PROT</th>\n",
       "      <td>-0.126691</td>\n",
       "      <td>0.493732</td>\n",
       "      <td>-0.014861</td>\n",
       "      <td>0.146857</td>\n",
       "      <td>0.048419</td>\n",
       "      <td>-0.071996</td>\n",
       "      <td>0.297580</td>\n",
       "      <td>0.201525</td>\n",
       "      <td>-0.061710</td>\n",
       "      <td>0.049717</td>\n",
       "      <td>1.000000</td>\n",
       "      <td>0.006535</td>\n",
       "    </tr>\n",
       "    <tr>\n",
       "      <th>has_dis</th>\n",
       "      <td>0.037512</td>\n",
       "      <td>-0.203710</td>\n",
       "      <td>-0.062378</td>\n",
       "      <td>-0.233696</td>\n",
       "      <td>0.645313</td>\n",
       "      <td>0.442584</td>\n",
       "      <td>-0.248236</td>\n",
       "      <td>-0.252205</td>\n",
       "      <td>0.166441</td>\n",
       "      <td>0.461679</td>\n",
       "      <td>0.006535</td>\n",
       "      <td>1.000000</td>\n",
       "    </tr>\n",
       "  </tbody>\n",
       "</table>\n",
       "</div>"
      ],
      "text/plain": [
       "              Age       ALB       ALP       ALT       AST       BIL       CHE  \\\n",
       "Age      1.000000 -0.161481  0.170215 -0.111697  0.055230  0.043339 -0.081921   \n",
       "ALB     -0.161481  1.000000 -0.103431  0.200235 -0.161389 -0.194822  0.364617   \n",
       "ALP      0.170215 -0.103431  1.000000  0.078155  0.027222  0.066974  0.043800   \n",
       "ALT     -0.111697  0.200235  0.078155  1.000000  0.100191 -0.126918  0.311920   \n",
       "AST      0.055230 -0.161389  0.027222  0.100191  1.000000  0.321066 -0.224441   \n",
       "BIL      0.043339 -0.194822  0.066974 -0.126918  0.321066  1.000000 -0.330494   \n",
       "CHE     -0.081921  0.364617  0.043800  0.311920 -0.224441 -0.330494  1.000000   \n",
       "CHOL     0.146815  0.167053  0.135502  0.184870 -0.211018 -0.187060  0.428312   \n",
       "CREA    -0.014499 -0.018850  0.167393 -0.024710 -0.009114  0.019625 -0.013163   \n",
       "GGT      0.129556 -0.073379  0.428599  0.102898  0.481591  0.234191 -0.074410   \n",
       "PROT    -0.126691  0.493732 -0.014861  0.146857  0.048419 -0.071996  0.297580   \n",
       "has_dis  0.037512 -0.203710 -0.062378 -0.233696  0.645313  0.442584 -0.248236   \n",
       "\n",
       "             CHOL      CREA       GGT      PROT   has_dis  \n",
       "Age      0.146815 -0.014499  0.129556 -0.126691  0.037512  \n",
       "ALB      0.167053 -0.018850 -0.073379  0.493732 -0.203710  \n",
       "ALP      0.135502  0.167393  0.428599 -0.014861 -0.062378  \n",
       "ALT      0.184870 -0.024710  0.102898  0.146857 -0.233696  \n",
       "AST     -0.211018 -0.009114  0.481591  0.048419  0.645313  \n",
       "BIL     -0.187060  0.019625  0.234191 -0.071996  0.442584  \n",
       "CHE      0.428312 -0.013163 -0.074410  0.297580 -0.248236  \n",
       "CHOL     1.000000 -0.060087  0.031976  0.201525 -0.252205  \n",
       "CREA    -0.060087  1.000000  0.128460 -0.061710  0.166441  \n",
       "GGT      0.031976  0.128460  1.000000  0.049717  0.461679  \n",
       "PROT     0.201525 -0.061710  0.049717  1.000000  0.006535  \n",
       "has_dis -0.252205  0.166441  0.461679  0.006535  1.000000  "
      ]
     },
     "execution_count": 51,
     "metadata": {},
     "output_type": "execute_result"
    }
   ],
   "source": [
    "df[num_data].corr()"
   ]
  },
  {
   "cell_type": "code",
   "execution_count": 73,
   "metadata": {},
   "outputs": [
    {
     "data": {
      "text/plain": [
       "<matplotlib.axes._subplots.AxesSubplot at 0x1e3537c5e88>"
      ]
     },
     "execution_count": 73,
     "metadata": {},
     "output_type": "execute_result"
    },
    {
     "data": {
      "image/png": "[encoded data removed]",
      "text/plain": [
       "<Figure size 432x288 with 2 Axes>"
      ]
     },
     "metadata": {
      "needs_background": "light"
     },
     "output_type": "display_data"
    }
   ],
   "source": [
    "cmap = sns.color_palette(\"rocket_r\")\n",
    "sns.heatmap(df[num_data].corr(), cmap=cmap)"
   ]
  },
  {
   "cell_type": "code",
   "execution_count": 74,
   "metadata": {},
   "outputs": [],
   "source": [
    "data_scaled = scaler.fit_transform(df[['ALB', 'ALP','ALT','AST','BIL','CHE','CHOL','CREA','GGT','PROT']])"
   ]
  },
  {
   "cell_type": "code",
   "execution_count": 75,
   "metadata": {},
   "outputs": [],
   "source": [
    "scaleddf = pd.DataFrame(data_scaled, columns=['ALB', 'ALP','ALT','AST','BIL','CHE','CHOL','CREA','GGT','PROT'])"
   ]
  },
  {
   "cell_type": "code",
   "execution_count": 76,
   "metadata": {},
   "outputs": [
    {
     "data": {
      "text/html": [
       "<div>\n",
       "<style scoped>\n",
       "    .dataframe tbody tr th:only-of-type {\n",
       "        vertical-align: middle;\n",
       "    }\n",
       "\n",
       "    .dataframe tbody tr th {\n",
       "        vertical-align: top;\n",
       "    }\n",
       "\n",
       "    .dataframe thead th {\n",
       "        text-align: right;\n",
       "    }\n",
       "</style>\n",
       "<table border=\"1\" class=\"dataframe\">\n",
       "  <thead>\n",
       "    <tr style=\"text-align: right;\">\n",
       "      <th></th>\n",
       "      <th>ALB</th>\n",
       "      <th>ALP</th>\n",
       "      <th>ALT</th>\n",
       "      <th>AST</th>\n",
       "      <th>BIL</th>\n",
       "      <th>CHE</th>\n",
       "      <th>CHOL</th>\n",
       "      <th>CREA</th>\n",
       "      <th>GGT</th>\n",
       "      <th>PROT</th>\n",
       "    </tr>\n",
       "  </thead>\n",
       "  <tbody>\n",
       "    <tr>\n",
       "      <th>count</th>\n",
       "      <td>582.000000</td>\n",
       "      <td>582.000000</td>\n",
       "      <td>582.000000</td>\n",
       "      <td>582.000000</td>\n",
       "      <td>582.000000</td>\n",
       "      <td>582.000000</td>\n",
       "      <td>582.000000</td>\n",
       "      <td>582.000000</td>\n",
       "      <td>582.000000</td>\n",
       "      <td>582.000000</td>\n",
       "    </tr>\n",
       "    <tr>\n",
       "      <th>mean</th>\n",
       "      <td>0.318099</td>\n",
       "      <td>0.139037</td>\n",
       "      <td>0.211321</td>\n",
       "      <td>0.068350</td>\n",
       "      <td>0.044857</td>\n",
       "      <td>0.453125</td>\n",
       "      <td>0.482117</td>\n",
       "      <td>0.069003</td>\n",
       "      <td>0.050024</td>\n",
       "      <td>0.594545</td>\n",
       "    </tr>\n",
       "    <tr>\n",
       "      <th>std</th>\n",
       "      <td>0.090697</td>\n",
       "      <td>0.062050</td>\n",
       "      <td>0.127311</td>\n",
       "      <td>0.103709</td>\n",
       "      <td>0.084432</td>\n",
       "      <td>0.143540</td>\n",
       "      <td>0.135306</td>\n",
       "      <td>0.047306</td>\n",
       "      <td>0.079532</td>\n",
       "      <td>0.136841</td>\n",
       "    </tr>\n",
       "    <tr>\n",
       "      <th>min</th>\n",
       "      <td>0.000000</td>\n",
       "      <td>0.000000</td>\n",
       "      <td>0.000000</td>\n",
       "      <td>0.000000</td>\n",
       "      <td>0.000000</td>\n",
       "      <td>0.000000</td>\n",
       "      <td>0.000000</td>\n",
       "      <td>0.000000</td>\n",
       "      <td>0.000000</td>\n",
       "      <td>0.000000</td>\n",
       "    </tr>\n",
       "    <tr>\n",
       "      <th>25%</th>\n",
       "      <td>0.270270</td>\n",
       "      <td>0.101653</td>\n",
       "      <td>0.131613</td>\n",
       "      <td>0.030208</td>\n",
       "      <td>0.016892</td>\n",
       "      <td>0.368913</td>\n",
       "      <td>0.388350</td>\n",
       "      <td>0.056017</td>\n",
       "      <td>0.016940</td>\n",
       "      <td>0.515493</td>\n",
       "    </tr>\n",
       "    <tr>\n",
       "      <th>50%</th>\n",
       "      <td>0.320101</td>\n",
       "      <td>0.134962</td>\n",
       "      <td>0.184300</td>\n",
       "      <td>0.043590</td>\n",
       "      <td>0.025820</td>\n",
       "      <td>0.456638</td>\n",
       "      <td>0.470874</td>\n",
       "      <td>0.064420</td>\n",
       "      <td>0.028079</td>\n",
       "      <td>0.594366</td>\n",
       "    </tr>\n",
       "    <tr>\n",
       "      <th>75%</th>\n",
       "      <td>0.374578</td>\n",
       "      <td>0.167777</td>\n",
       "      <td>0.263225</td>\n",
       "      <td>0.062821</td>\n",
       "      <td>0.044402</td>\n",
       "      <td>0.543362</td>\n",
       "      <td>0.565231</td>\n",
       "      <td>0.075623</td>\n",
       "      <td>0.049041</td>\n",
       "      <td>0.681690</td>\n",
       "    </tr>\n",
       "    <tr>\n",
       "      <th>max</th>\n",
       "      <td>1.000000</td>\n",
       "      <td>1.000000</td>\n",
       "      <td>1.000000</td>\n",
       "      <td>1.000000</td>\n",
       "      <td>1.000000</td>\n",
       "      <td>1.000000</td>\n",
       "      <td>1.000000</td>\n",
       "      <td>1.000000</td>\n",
       "      <td>1.000000</td>\n",
       "      <td>1.000000</td>\n",
       "    </tr>\n",
       "  </tbody>\n",
       "</table>\n",
       "</div>"
      ],
      "text/plain": [
       "              ALB         ALP         ALT         AST         BIL         CHE  \\\n",
       "count  582.000000  582.000000  582.000000  582.000000  582.000000  582.000000   \n",
       "mean     0.318099    0.139037    0.211321    0.068350    0.044857    0.453125   \n",
       "std      0.090697    0.062050    0.127311    0.103709    0.084432    0.143540   \n",
       "min      0.000000    0.000000    0.000000    0.000000    0.000000    0.000000   \n",
       "25%      0.270270    0.101653    0.131613    0.030208    0.016892    0.368913   \n",
       "50%      0.320101    0.134962    0.184300    0.043590    0.025820    0.456638   \n",
       "75%      0.374578    0.167777    0.263225    0.062821    0.044402    0.543362   \n",
       "max      1.000000    1.000000    1.000000    1.000000    1.000000    1.000000   \n",
       "\n",
       "             CHOL        CREA         GGT        PROT  \n",
       "count  582.000000  582.000000  582.000000  582.000000  \n",
       "mean     0.482117    0.069003    0.050024    0.594545  \n",
       "std      0.135306    0.047306    0.079532    0.136841  \n",
       "min      0.000000    0.000000    0.000000    0.000000  \n",
       "25%      0.388350    0.056017    0.016940    0.515493  \n",
       "50%      0.470874    0.064420    0.028079    0.594366  \n",
       "75%      0.565231    0.075623    0.049041    0.681690  \n",
       "max      1.000000    1.000000    1.000000    1.000000  "
      ]
     },
     "execution_count": 76,
     "metadata": {},
     "output_type": "execute_result"
    }
   ],
   "source": [
    "scaleddf.describe()"
   ]
  },
  {
   "cell_type": "code",
   "execution_count": 82,
   "metadata": {},
   "outputs": [],
   "source": [
    "scaleddf['Age'] = df['Age']\n",
    "scaleddf['has_dis'] = df['has_dis']"
   ]
  },
  {
   "cell_type": "code",
   "execution_count": 95,
   "metadata": {},
   "outputs": [
    {
     "data": {
      "text/plain": [
       "<matplotlib.axes._subplots.AxesSubplot at 0x1e357ced308>"
      ]
     },
     "execution_count": 95,
     "metadata": {},
     "output_type": "execute_result"
    },
    {
     "data": {
      "image/png": "[encoded data removed]",
      "text/plain": [
       "<Figure size 432x288 with 2 Axes>"
      ]
     },
     "metadata": {
      "needs_background": "light"
     },
     "output_type": "display_data"
    }
   ],
   "source": [
    "mask = np.triu(scaleddf[num_data].corr())\n",
    "sns.heatmap(scaleddf[num_data].corr(),mask=mask, cmap=cmap)"
   ]
  }
 ],
 "metadata": {
  "kernelspec": {
   "display_name": "Python 3",
   "language": "python",
   "name": "python3"
  },
  "language_info": {
   "codemirror_mode": {
    "name": "ipython",
    "version": 3
   },
   "file_extension": ".py",
   "mimetype": "text/x-python",
   "name": "python",
   "nbconvert_exporter": "python",
   "pygments_lexer": "ipython3",
   "version": "3.7.6"
  }
 },
 "nbformat": 4,
 "nbformat_minor": 4
}
