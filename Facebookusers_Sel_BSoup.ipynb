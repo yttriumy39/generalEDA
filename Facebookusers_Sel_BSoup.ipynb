{
 "cells": [
  {
   "cell_type": "markdown",
   "metadata": {},
   "source": [
    "Testing BeautifulSoup and Selenium on a dataset available online from Statista. It's a fairly simple dataset showing how the number of Facebook users increased over the period Q2 2018 - Q2 2021. \n",
    "\n",
    "Data is stripped from https://www.statista.com/statistics/264810/number-of-monthly-active-facebook-users-worldwide/"
   ]
  },
  {
   "cell_type": "code",
   "execution_count": 5,
   "metadata": {},
   "outputs": [
    {
     "name": "stdout",
     "output_type": "stream",
     "text": [
      "C:\\Users\\alijl\n"
     ]
    }
   ],
   "source": [
    "import os\n",
    "cwd = os.getcwd()\n",
    "from bs4 import BeautifulSoup\n",
    "import matplotlib.pyplot as plt\n",
    "from selenium import webdriver"
   ]
  },
  {
   "cell_type": "code",
   "execution_count": 86,
   "metadata": {},
   "outputs": [],
   "source": [
    "def datastripprocess(url,strlen):\n",
    "\n",
    "    driver = webdriver.Chrome()\n",
    "    driver.get(url)\n",
    "\n",
    "    html = driver.page_source\n",
    "    soup = BeautifulSoup(html, \"lxml\")\n",
    "\n",
    "    output = soup.findAll('table')[1].findAll('tr')\n",
    "    \n",
    "    listtuple = []\n",
    "    for tag in output:\n",
    "        data_tuple = (tag.text[:strlen],tag.text[strlen:])\n",
    "        listtuple.append(data_tuple)\n",
    "        \n",
    "    listlist = [list(elem) for elem in listtuple]\n",
    "    \n",
    "    listlist = listlist[1:]\n",
    "    return listlist\n",
    "\n",
    "def spacestrip(spacelist,nospacelist):\n",
    "    for x in spacelist:\n",
    "        z = [y.strip(' ') for y in x]\n",
    "        nospacelist.append(z)\n",
    "\n",
    "def commastrip(commalist,nocommalist):\n",
    "    for x in commalist:\n",
    "        z = [y.replace(',',\"\") for y in x]\n",
    "        nocommalist.append(z)"
   ]
  },
  {
   "cell_type": "code",
   "execution_count": 87,
   "metadata": {},
   "outputs": [],
   "source": [
    "fbookmthlyusers= datastripprocess(url=\"https://www.statista.com/statistics/264810/number-of-monthly-active-facebook-users-worldwide/\"\n",
    "                                  ,strlen=7)"
   ]
  },
  {
   "cell_type": "code",
   "execution_count": 88,
   "metadata": {},
   "outputs": [],
   "source": [
    "fbookmthlyuserscommasspaces = fbookmthlyusers\n",
    "\n",
    "fbookmthlyuserscommas = []\n",
    "spacestrip(spacelist = fbookmthlyuserscommasspaces,nospacelist=fbookmthlyuserscommas)\n",
    "\n",
    "fbookmthlyusers = []\n",
    "commastrip(commalist = fbookmthlyuserscommas,nocommalist=fbookmthlyusers)\n"
   ]
  },
  {
   "cell_type": "code",
   "execution_count": 89,
   "metadata": {},
   "outputs": [
    {
     "name": "stdout",
     "output_type": "stream",
     "text": [
      "[['\\n', 'Our services\\n                    Click the question mark for further information\\n                        Free\\n                    \\n                                                        $39 per month*\\n                        \\n                                (billed annually)\\n'], ['\\xa0Basic', 'statistics'], ['\\xa0Premiu', 'm statistics'], ['', ''], ['\\n', 'Graph download\\n'], ['\\n', 'Download PDF\\n'], ['\\n', 'Excel download\\n'], ['\\n', 'Register\\n                        \\n                            Purchase now\\n']]\n"
     ]
    }
   ],
   "source": [
    "print(fbookmthlyusers)"
   ]
  },
  {
   "cell_type": "code",
   "execution_count": 72,
   "metadata": {},
   "outputs": [],
   "source": [
    "quarteryear = []\n",
    "for item in fbookmthlyusers:\n",
    "    x = item[0]\n",
    "    quarteryear.append(x)\n",
    "\n",
    "mthlyusers = []\n",
    "for item in fbookmthlyusers:\n",
    "    x = item[1]\n",
    "    mthlyusers.append(x)"
   ]
  },
  {
   "cell_type": "code",
   "execution_count": 76,
   "metadata": {},
   "outputs": [
    {
     "name": "stdout",
     "output_type": "stream",
     "text": [
      "[\"Q2 '18\", \"Q3 '18\", \"Q4 '18\", \"Q1 '19\", \"Q2 '19\", \"Q3 '19\", \"Q4 '19\", \"Q1 '20\", \"Q2 '20\", \"Q3 '20\", \"Q4 '20\", \"Q1 '21\", \"Q2 '21\"]\n"
     ]
    }
   ],
   "source": [
    "mthlyusers = [int(i) for i in mthlyusers]"
   ]
  },
  {
   "cell_type": "code",
   "execution_count": 80,
   "metadata": {},
   "outputs": [
    {
     "name": "stdout",
     "output_type": "stream",
     "text": [
      "[\"Q2 '18\", \"Q3 '18\", \"Q4 '18\", \"Q1 '19\", \"Q2 '19\", \"Q3 '19\", \"Q4 '19\", \"Q1 '20\", \"Q2 '20\", \"Q3 '20\", \"Q4 '20\", \"Q1 '21\", \"Q2 '21\"]\n"
     ]
    }
   ],
   "source": [
    "quarteryear.reverse()\n",
    "mthlyusers.reverse()\n",
    "print(quarteryear)"
   ]
  },
  {
   "cell_type": "code",
   "execution_count": 81,
   "metadata": {},
   "outputs": [
    {
     "name": "stdout",
     "output_type": "stream",
     "text": [
      "[2234, 2271, 2320, 2375, 2414, 2449, 2498, 2603, 2701, 2740, 2797, 2853, 2895]\n"
     ]
    }
   ],
   "source": [
    "print(mthlyusers)"
   ]
  },
  {
   "cell_type": "code",
   "execution_count": 85,
   "metadata": {},
   "outputs": [
    {
     "data": {
      "image/png": "[encoded data removed]",
      "text/plain": [
       "<Figure size 432x288 with 1 Axes>"
      ]
     },
     "metadata": {
      "needs_background": "light"
     },
     "output_type": "display_data"
    }
   ],
   "source": [
    "plt.bar(quarteryear, mthlyusers, color='blue')\n",
    "plt.xticks(rotation=90)\n",
    "plt.show()"
   ]
  },
  {
   "cell_type": "code",
   "execution_count": null,
   "metadata": {},
   "outputs": [],
   "source": []
  }
 ],
 "metadata": {
  "kernelspec": {
   "display_name": "Python 3",
   "language": "python",
   "name": "python3"
  },
  "language_info": {
   "codemirror_mode": {
    "name": "ipython",
    "version": 3
   },
   "file_extension": ".py",
   "mimetype": "text/x-python",
   "name": "python",
   "nbconvert_exporter": "python",
   "pygments_lexer": "ipython3",
   "version": "3.7.6"
  }
 },
 "nbformat": 4,
 "nbformat_minor": 4
}
